{
 "cells": [
  {
   "cell_type": "code",
   "execution_count": 1,
   "metadata": {},
   "outputs": [],
   "source": [
    "import pandas as pd"
   ]
  },
  {
   "cell_type": "code",
   "execution_count": 14,
   "metadata": {},
   "outputs": [],
   "source": [
    "indivtrips = pd.read_csv('./2020 synthetic pop/indivtrips.csv')"
   ]
  },
  {
   "cell_type": "code",
   "execution_count": 15,
   "metadata": {},
   "outputs": [],
   "source": [
    "indivtrips_school = indivtrips[(indivtrips['TOUR_PURPOSE'] == 'School') | (indivtrips['TOUR_PURPOSE'] == 'University')]"
   ]
  },
  {
   "cell_type": "code",
   "execution_count": 16,
   "metadata": {},
   "outputs": [],
   "source": [
    "jointtrips = pd.read_csv('./2020 synthetic pop/jointtrips.csv')"
   ]
  },
  {
   "cell_type": "code",
   "execution_count": 17,
   "metadata": {},
   "outputs": [],
   "source": [
    "jointtrips_school = jointtrips[(jointtrips['TOUR_PURPOSE'] == 'School') | (jointtrips['TOUR_PURPOSE'] == 'University')]"
   ]
  },
  {
   "cell_type": "code",
   "execution_count": 18,
   "metadata": {},
   "outputs": [],
   "source": [
    "trips_school = pd.concat([indivtrips_school[['TOUR_PURPOSE', 'ORIG_MGRA', 'DEST_MGRA']],\n",
    "                          jointtrips_school[['TOUR_PURPOSE', 'ORIG_MGRA', 'DEST_MGRA']]], ignore_index = True)"
   ]
  },
  {
   "cell_type": "code",
   "execution_count": 19,
   "metadata": {},
   "outputs": [
    {
     "data": {
      "text/html": [
       "<div>\n",
       "<style scoped>\n",
       "    .dataframe tbody tr th:only-of-type {\n",
       "        vertical-align: middle;\n",
       "    }\n",
       "\n",
       "    .dataframe tbody tr th {\n",
       "        vertical-align: top;\n",
       "    }\n",
       "\n",
       "    .dataframe thead th {\n",
       "        text-align: right;\n",
       "    }\n",
       "</style>\n",
       "<table border=\"1\" class=\"dataframe\">\n",
       "  <thead>\n",
       "    <tr style=\"text-align: right;\">\n",
       "      <th></th>\n",
       "      <th>TOUR_PURPOSE</th>\n",
       "      <th>ORIG_MGRA</th>\n",
       "      <th>DEST_MGRA</th>\n",
       "    </tr>\n",
       "  </thead>\n",
       "  <tbody>\n",
       "    <tr>\n",
       "      <th>0</th>\n",
       "      <td>School</td>\n",
       "      <td>1</td>\n",
       "      <td>219</td>\n",
       "    </tr>\n",
       "    <tr>\n",
       "      <th>1</th>\n",
       "      <td>School</td>\n",
       "      <td>219</td>\n",
       "      <td>212</td>\n",
       "    </tr>\n",
       "    <tr>\n",
       "      <th>2</th>\n",
       "      <td>School</td>\n",
       "      <td>212</td>\n",
       "      <td>2610</td>\n",
       "    </tr>\n",
       "    <tr>\n",
       "      <th>3</th>\n",
       "      <td>School</td>\n",
       "      <td>2610</td>\n",
       "      <td>1</td>\n",
       "    </tr>\n",
       "    <tr>\n",
       "      <th>4</th>\n",
       "      <td>School</td>\n",
       "      <td>1</td>\n",
       "      <td>1486</td>\n",
       "    </tr>\n",
       "    <tr>\n",
       "      <th>...</th>\n",
       "      <td>...</td>\n",
       "      <td>...</td>\n",
       "      <td>...</td>\n",
       "    </tr>\n",
       "    <tr>\n",
       "      <th>985489</th>\n",
       "      <td>School</td>\n",
       "      <td>23001</td>\n",
       "      <td>22959</td>\n",
       "    </tr>\n",
       "    <tr>\n",
       "      <th>985490</th>\n",
       "      <td>School</td>\n",
       "      <td>22959</td>\n",
       "      <td>22999</td>\n",
       "    </tr>\n",
       "    <tr>\n",
       "      <th>985491</th>\n",
       "      <td>School</td>\n",
       "      <td>22999</td>\n",
       "      <td>23001</td>\n",
       "    </tr>\n",
       "    <tr>\n",
       "      <th>985492</th>\n",
       "      <td>School</td>\n",
       "      <td>23001</td>\n",
       "      <td>22999</td>\n",
       "    </tr>\n",
       "    <tr>\n",
       "      <th>985493</th>\n",
       "      <td>School</td>\n",
       "      <td>22999</td>\n",
       "      <td>23001</td>\n",
       "    </tr>\n",
       "  </tbody>\n",
       "</table>\n",
       "<p>985494 rows × 3 columns</p>\n",
       "</div>"
      ],
      "text/plain": [
       "       TOUR_PURPOSE  ORIG_MGRA  DEST_MGRA\n",
       "0            School          1        219\n",
       "1            School        219        212\n",
       "2            School        212       2610\n",
       "3            School       2610          1\n",
       "4            School          1       1486\n",
       "...             ...        ...        ...\n",
       "985489       School      23001      22959\n",
       "985490       School      22959      22999\n",
       "985491       School      22999      23001\n",
       "985492       School      23001      22999\n",
       "985493       School      22999      23001\n",
       "\n",
       "[985494 rows x 3 columns]"
      ]
     },
     "execution_count": 19,
     "metadata": {},
     "output_type": "execute_result"
    }
   ],
   "source": [
    "trips_school"
   ]
  }
 ],
 "metadata": {
  "kernelspec": {
   "display_name": "Python 3",
   "language": "python",
   "name": "python3"
  },
  "language_info": {
   "codemirror_mode": {
    "name": "ipython",
    "version": 3
   },
   "file_extension": ".py",
   "mimetype": "text/x-python",
   "name": "python",
   "nbconvert_exporter": "python",
   "pygments_lexer": "ipython3",
   "version": "3.7.4"
  }
 },
 "nbformat": 4,
 "nbformat_minor": 4
}
